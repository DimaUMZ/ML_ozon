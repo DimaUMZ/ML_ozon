{
 "cells": [
  {
   "cell_type": "code",
   "execution_count": null,
   "id": "0b9aef85",
   "metadata": {},
   "outputs": [],
   "source": [
    "from src.evaluation.validation import run_time_series_validation, print_validation_results\n",
    "\n",
    "# Загрузка данных\n",
    "features = load_features()\n",
    "targets = load_targets()\n",
    "\n",
    "# Запуск валидации\n",
    "metrics = run_time_series_validation(model, features, targets, n_splits=3, test_size=30)\n",
    "print_validation_results(metrics)"
   ]
  }
 ],
 "metadata": {
  "language_info": {
   "name": "python"
  }
 },
 "nbformat": 4,
 "nbformat_minor": 5
}
